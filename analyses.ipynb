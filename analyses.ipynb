{
 "cells": [
  {
   "cell_type": "code",
   "execution_count": 442,
   "id": "6c1c9082",
   "metadata": {},
   "outputs": [],
   "source": [
    "import pandas as pd\n",
    "import numpy as np\n",
    "import matplotlib.pyplot as plt\n",
    "import seaborn as sns\n",
    "import scipy.stats as stats\n",
    "import warnings\n",
    "warnings.filterwarnings(\"ignore\")"
   ]
  },
  {
   "cell_type": "markdown",
   "id": "ec87b402",
   "metadata": {},
   "source": [
    "# Задание 1"
   ]
  },
  {
   "cell_type": "markdown",
   "id": "19ceb9f1",
   "metadata": {},
   "source": [
    "### Retention – один из самых важных показателей в компании. Ваша задача – написать функцию, которая будет считать retention игроков (по дням от даты регистрации игрока). Функция должна быть написана на python. В ходе решения можно тестировать работу функции как на полном датасете, так и на части (сэмпле) данных."
   ]
  },
  {
   "cell_type": "markdown",
   "id": "fdbc16b0",
   "metadata": {},
   "source": [
    "Для начала прочитаем данные и поменяем тип столбца с временем регистрации/входа в игру на более привычный %Y-%m-%d"
   ]
  },
  {
   "cell_type": "code",
   "execution_count": 443,
   "id": "53fc77a8",
   "metadata": {},
   "outputs": [],
   "source": [
    "visit_time = pd.read_csv('problem1-auth_data.csv', sep = ';')\n",
    "reg_time = pd.read_csv('problem1-reg_data.csv', sep = ';')"
   ]
  },
  {
   "cell_type": "code",
   "execution_count": 444,
   "id": "9d3d68b6",
   "metadata": {},
   "outputs": [],
   "source": [
    "reg_time['reg_ts'] = pd.to_datetime(reg_time.reg_ts, unit = 's')\n",
    "reg_time['reg_ts'] = reg_time['reg_ts'].dt.strftime('%Y-%m-%d')"
   ]
  },
  {
   "cell_type": "code",
   "execution_count": 445,
   "id": "5310e01b",
   "metadata": {},
   "outputs": [],
   "source": [
    "visit_time['auth_ts'] = pd.to_datetime(visit_time.auth_ts, unit = 's')\n",
    "visit_time['auth_ts'] = visit_time['auth_ts'].dt.strftime('%Y-%m-%d')"
   ]
  },
  {
   "cell_type": "markdown",
   "id": "3685c51f",
   "metadata": {},
   "source": [
    "В силу того, что данные охватывают большой период времени, было решено реализовать функцию retention следующим образом. \n",
    "Функция берет на вход обе таблицы и некоторую дату регистрации, с которой необходимо вести отсчет. Для последующих дат вычисляется количество людей посетивших игру. Столбец retention rate в данной таблице указывает на долю вошедших в игру от общего числа зарегестрированных в заданную дату пользователей"
   ]
  },
  {
   "cell_type": "code",
   "execution_count": 446,
   "id": "33150733",
   "metadata": {},
   "outputs": [],
   "source": [
    "def retention(reg_time, visit_time, date):\n",
    "    df_sample = reg_time.merge(visit_time, on = 'uid', how = 'right')\n",
    "    df_sample = df_sample[['uid', 'reg_ts', 'auth_ts']]\n",
    "    df_sample = df_sample.query('reg_ts == @date')\n",
    "    df_sample['reg_ts'] = pd.to_datetime(df_sample['reg_ts'])\n",
    "    df_sample['auth_ts'] = pd.to_datetime(df_sample['auth_ts'])\n",
    "    df_sample['day_count'] = df_sample['auth_ts'] - df_sample['reg_ts']\n",
    "    df_sample['day_count'] = df_sample['day_count'].dt.days.astype(int)\n",
    "    #не учитываем людей которые несколько раз заходили в игру в один и тот же день\n",
    "    df_sample = df_sample.drop_duplicates(subset = ['uid', 'auth_ts'])\n",
    "    n = df_sample.uid.nunique()\n",
    "    df_sample = df_sample.groupby('day_count', as_index = False).agg({'uid': 'count'}).rename(columns = {'uid': 'retention'})\n",
    "    df_sample['retention_rate'] = df_sample.retention / n\n",
    "    return df_sample"
   ]
  },
  {
   "cell_type": "code",
   "execution_count": 464,
   "id": "df15add6",
   "metadata": {},
   "outputs": [],
   "source": [
    "df_sample = visit_time.sample(750000)"
   ]
  },
  {
   "cell_type": "code",
   "execution_count": 468,
   "id": "7f0f7dd5",
   "metadata": {},
   "outputs": [
    {
     "data": {
      "text/html": [
       "<div>\n",
       "<style scoped>\n",
       "    .dataframe tbody tr th:only-of-type {\n",
       "        vertical-align: middle;\n",
       "    }\n",
       "\n",
       "    .dataframe tbody tr th {\n",
       "        vertical-align: top;\n",
       "    }\n",
       "\n",
       "    .dataframe thead th {\n",
       "        text-align: right;\n",
       "    }\n",
       "</style>\n",
       "<table border=\"1\" class=\"dataframe\">\n",
       "  <thead>\n",
       "    <tr style=\"text-align: right;\">\n",
       "      <th></th>\n",
       "      <th>day_count</th>\n",
       "      <th>retention</th>\n",
       "      <th>retention_rate</th>\n",
       "    </tr>\n",
       "  </thead>\n",
       "  <tbody>\n",
       "    <tr>\n",
       "      <th>0</th>\n",
       "      <td>0</td>\n",
       "      <td>34</td>\n",
       "      <td>0.465753</td>\n",
       "    </tr>\n",
       "    <tr>\n",
       "      <th>1</th>\n",
       "      <td>2</td>\n",
       "      <td>2</td>\n",
       "      <td>0.027397</td>\n",
       "    </tr>\n",
       "    <tr>\n",
       "      <th>2</th>\n",
       "      <td>3</td>\n",
       "      <td>2</td>\n",
       "      <td>0.027397</td>\n",
       "    </tr>\n",
       "    <tr>\n",
       "      <th>3</th>\n",
       "      <td>5</td>\n",
       "      <td>4</td>\n",
       "      <td>0.054795</td>\n",
       "    </tr>\n",
       "    <tr>\n",
       "      <th>4</th>\n",
       "      <td>6</td>\n",
       "      <td>2</td>\n",
       "      <td>0.027397</td>\n",
       "    </tr>\n",
       "  </tbody>\n",
       "</table>\n",
       "</div>"
      ],
      "text/plain": [
       "   day_count  retention  retention_rate\n",
       "0          0         34        0.465753\n",
       "1          2          2        0.027397\n",
       "2          3          2        0.027397\n",
       "3          5          4        0.054795\n",
       "4          6          2        0.027397"
      ]
     },
     "execution_count": 468,
     "metadata": {},
     "output_type": "execute_result"
    }
   ],
   "source": [
    "sample_retention = retention(reg_time, df_sample, '2018-08-12') \n",
    "sample_retention.head()"
   ]
  },
  {
   "cell_type": "code",
   "execution_count": 469,
   "id": "aa761c4d",
   "metadata": {},
   "outputs": [
    {
     "data": {
      "text/html": [
       "<div>\n",
       "<style scoped>\n",
       "    .dataframe tbody tr th:only-of-type {\n",
       "        vertical-align: middle;\n",
       "    }\n",
       "\n",
       "    .dataframe tbody tr th {\n",
       "        vertical-align: top;\n",
       "    }\n",
       "\n",
       "    .dataframe thead th {\n",
       "        text-align: right;\n",
       "    }\n",
       "</style>\n",
       "<table border=\"1\" class=\"dataframe\">\n",
       "  <thead>\n",
       "    <tr style=\"text-align: right;\">\n",
       "      <th></th>\n",
       "      <th>day_count</th>\n",
       "      <th>retention</th>\n",
       "      <th>retention_rate</th>\n",
       "    </tr>\n",
       "  </thead>\n",
       "  <tbody>\n",
       "    <tr>\n",
       "      <th>0</th>\n",
       "      <td>0</td>\n",
       "      <td>461</td>\n",
       "      <td>1.000000</td>\n",
       "    </tr>\n",
       "    <tr>\n",
       "      <th>1</th>\n",
       "      <td>1</td>\n",
       "      <td>5</td>\n",
       "      <td>0.010846</td>\n",
       "    </tr>\n",
       "    <tr>\n",
       "      <th>2</th>\n",
       "      <td>2</td>\n",
       "      <td>12</td>\n",
       "      <td>0.026030</td>\n",
       "    </tr>\n",
       "    <tr>\n",
       "      <th>3</th>\n",
       "      <td>3</td>\n",
       "      <td>22</td>\n",
       "      <td>0.047722</td>\n",
       "    </tr>\n",
       "    <tr>\n",
       "      <th>4</th>\n",
       "      <td>4</td>\n",
       "      <td>24</td>\n",
       "      <td>0.052061</td>\n",
       "    </tr>\n",
       "  </tbody>\n",
       "</table>\n",
       "</div>"
      ],
      "text/plain": [
       "   day_count  retention  retention_rate\n",
       "0          0        461        1.000000\n",
       "1          1          5        0.010846\n",
       "2          2         12        0.026030\n",
       "3          3         22        0.047722\n",
       "4          4         24        0.052061"
      ]
     },
     "execution_count": 469,
     "metadata": {},
     "output_type": "execute_result"
    }
   ],
   "source": [
    "general_retention = retention(reg_time, visit_time, '2018-08-12')\n",
    "general_retention.head()"
   ]
  },
  {
   "cell_type": "markdown",
   "id": "7a6fc698",
   "metadata": {},
   "source": [
    "Тест функции на выборке из 750000 человек"
   ]
  },
  {
   "cell_type": "code",
   "execution_count": 470,
   "id": "444fd6e7",
   "metadata": {},
   "outputs": [
    {
     "data": {
      "image/png": "[encoded data removed]",
      "text/plain": [
       "<Figure size 640x480 with 1 Axes>"
      ]
     },
     "metadata": {},
     "output_type": "display_data"
    }
   ],
   "source": [
    "#Для наглядности в визуализации возьмем только первые 30 дней с даты регистрации\n",
    "general_retention = general_retention.head(30)\n",
    "sample_retention = sample_retention.head(30)\n",
    "sns.lineplot(x = general_retention.day_count, y = general_retention.retention_rate, label='General')\n",
    "sns.lineplot(x = general_retention.day_count, y = sample_retention.retention_rate, label='Sample')\n",
    "plt.xlabel('Day after registration')\n",
    "plt.ylabel('Retention Rate')\n",
    "plt.title('Retention Rate Graph')\n",
    "plt.legend()\n",
    "plt.show()\n"
   ]
  },
  {
   "cell_type": "markdown",
   "id": "a3568ad1",
   "metadata": {},
   "source": [
    "Также приведу функцию  расчета retention, которая на мой взгляд может быть полезнее с практической точки зрения. advanced_retention получает на вход датасет с активностью пользователей и некоторый год для которого будет приведена статистика retention. В одном из следующих пунктов проекта сказано, что ежемесячно в игре появляются новые акционные предложения. Поэтому я считаю релевантным взять месяц единицей отсчета параметра retention. Итак данная функция для каждого месяца заданного года вычисляет долю пользователей активных в следующем месяце от числа активных в текущем. То есть если в январе в игру играло 3 тысячи человек, а в феврале из этих 3 тысяч в игру вернулось полторы тысячи, то retention rate = 0.5. В данном случае не так важна дата регистрации пользователя, поэтому таблица reg_time не включена в функцию."
   ]
  },
  {
   "cell_type": "code",
   "execution_count": 471,
   "id": "eec80706",
   "metadata": {},
   "outputs": [],
   "source": [
    "def advanced_retention(df, year):\n",
    "    #приводим столбец auth_ts к типу datetime нс случай, если это еще не было сделано\n",
    "    df['auth_ts'] = pd.to_datetime(df['auth_ts'])\n",
    "    #оставляем только наблюдения за нужный период\n",
    "    df = df[(df['auth_ts'].dt.year == year) | ((df['auth_ts'].dt.year == year + 1) & (df['auth_ts'].dt.month == 1))]\n",
    "    #от даты оставляем только значение месяца. также для расчета retention декабря берем первый месяц следующего года\n",
    "    df['month'] = df.auth_ts.apply(lambda x: x.month if x.year == year else 13)\n",
    "    #считаем количество уникальный пользователей в каждом из месяцев\n",
    "    df_all = df.groupby('month', as_index = False).agg({'uid': 'nunique'})\n",
    "    #формируем таблицу с игроками посетившими приложение в следующем месяце\n",
    "    df_res = df.drop_duplicates(subset = ['uid', 'month'])\n",
    "    df_res = df_res.sort_values(['uid', 'month'])\n",
    "    df_res['next_month'] = df_res.groupby('uid')['month'].shift(-1)\n",
    "    df_res = df_res.dropna()\n",
    "    df_res['dif'] = df_res.next_month - df_res.month\n",
    "    df_res = df_res.reset_index()\n",
    "    df_res = df_res.query('dif == 1').groupby('month', as_index = False).agg({'index': 'count'})\n",
    "    #объединяем таблицы\n",
    "    df_final = df_all.merge(df_res, on = 'month', how = 'left')\n",
    "    df_final = df_final.rename(columns = {'uid': 'was', 'index': 'came_back'}).dropna()\n",
    "    df_final['retention_rate'] = df_final.came_back / df_final.was\n",
    "    df_final['month'] = pd.to_datetime(df_final['month'], format='%m').dt.strftime('%B') \n",
    "    return df_final"
   ]
  },
  {
   "cell_type": "code",
   "execution_count": 488,
   "id": "a5121d56",
   "metadata": {},
   "outputs": [
    {
     "data": {
      "text/html": [
       "<div>\n",
       "<style scoped>\n",
       "    .dataframe tbody tr th:only-of-type {\n",
       "        vertical-align: middle;\n",
       "    }\n",
       "\n",
       "    .dataframe tbody tr th {\n",
       "        vertical-align: top;\n",
       "    }\n",
       "\n",
       "    .dataframe thead th {\n",
       "        text-align: right;\n",
       "    }\n",
       "</style>\n",
       "<table border=\"1\" class=\"dataframe\">\n",
       "  <thead>\n",
       "    <tr style=\"text-align: right;\">\n",
       "      <th></th>\n",
       "      <th>month</th>\n",
       "      <th>was</th>\n",
       "      <th>came_back</th>\n",
       "      <th>retention_rate</th>\n",
       "    </tr>\n",
       "  </thead>\n",
       "  <tbody>\n",
       "    <tr>\n",
       "      <th>0</th>\n",
       "      <td>January</td>\n",
       "      <td>3459</td>\n",
       "      <td>1917.0</td>\n",
       "      <td>0.554206</td>\n",
       "    </tr>\n",
       "    <tr>\n",
       "      <th>1</th>\n",
       "      <td>February</td>\n",
       "      <td>3505</td>\n",
       "      <td>2009.0</td>\n",
       "      <td>0.573181</td>\n",
       "    </tr>\n",
       "    <tr>\n",
       "      <th>2</th>\n",
       "      <td>March</td>\n",
       "      <td>3855</td>\n",
       "      <td>2145.0</td>\n",
       "      <td>0.556420</td>\n",
       "    </tr>\n",
       "    <tr>\n",
       "      <th>3</th>\n",
       "      <td>April</td>\n",
       "      <td>4023</td>\n",
       "      <td>2253.0</td>\n",
       "      <td>0.560030</td>\n",
       "    </tr>\n",
       "    <tr>\n",
       "      <th>4</th>\n",
       "      <td>May</td>\n",
       "      <td>4293</td>\n",
       "      <td>2346.0</td>\n",
       "      <td>0.546471</td>\n",
       "    </tr>\n",
       "    <tr>\n",
       "      <th>5</th>\n",
       "      <td>June</td>\n",
       "      <td>4423</td>\n",
       "      <td>2472.0</td>\n",
       "      <td>0.558897</td>\n",
       "    </tr>\n",
       "    <tr>\n",
       "      <th>6</th>\n",
       "      <td>July</td>\n",
       "      <td>4728</td>\n",
       "      <td>2581.0</td>\n",
       "      <td>0.545897</td>\n",
       "    </tr>\n",
       "    <tr>\n",
       "      <th>7</th>\n",
       "      <td>August</td>\n",
       "      <td>4954</td>\n",
       "      <td>2725.0</td>\n",
       "      <td>0.550061</td>\n",
       "    </tr>\n",
       "    <tr>\n",
       "      <th>8</th>\n",
       "      <td>September</td>\n",
       "      <td>5141</td>\n",
       "      <td>2897.0</td>\n",
       "      <td>0.563509</td>\n",
       "    </tr>\n",
       "    <tr>\n",
       "      <th>9</th>\n",
       "      <td>October</td>\n",
       "      <td>5521</td>\n",
       "      <td>2977.0</td>\n",
       "      <td>0.539214</td>\n",
       "    </tr>\n",
       "    <tr>\n",
       "      <th>10</th>\n",
       "      <td>November</td>\n",
       "      <td>5647</td>\n",
       "      <td>3137.0</td>\n",
       "      <td>0.555516</td>\n",
       "    </tr>\n",
       "    <tr>\n",
       "      <th>11</th>\n",
       "      <td>December</td>\n",
       "      <td>6038</td>\n",
       "      <td>3274.0</td>\n",
       "      <td>0.542233</td>\n",
       "    </tr>\n",
       "  </tbody>\n",
       "</table>\n",
       "</div>"
      ],
      "text/plain": [
       "        month   was  came_back  retention_rate\n",
       "0     January  3459     1917.0        0.554206\n",
       "1    February  3505     2009.0        0.573181\n",
       "2       March  3855     2145.0        0.556420\n",
       "3       April  4023     2253.0        0.560030\n",
       "4         May  4293     2346.0        0.546471\n",
       "5        June  4423     2472.0        0.558897\n",
       "6        July  4728     2581.0        0.545897\n",
       "7      August  4954     2725.0        0.550061\n",
       "8   September  5141     2897.0        0.563509\n",
       "9     October  5521     2977.0        0.539214\n",
       "10   November  5647     3137.0        0.555516\n",
       "11   December  6038     3274.0        0.542233"
      ]
     },
     "execution_count": 488,
     "metadata": {},
     "output_type": "execute_result"
    }
   ],
   "source": [
    "#Пример работы функции на полном объеме данных с заданным годом\n",
    "res_df = advanced_retention(visit_time, 2015)\n",
    "res_df"
   ]
  },
  {
   "cell_type": "code",
   "execution_count": 497,
   "id": "bb01dbad",
   "metadata": {},
   "outputs": [
    {
     "data": {
      "text/plain": [
       "<Axes: xlabel='month', ylabel='retention_rate'>"
      ]
     },
     "execution_count": 497,
     "metadata": {},
     "output_type": "execute_result"
    },
    {
     "data": {
      "image/png": "[encoded data removed]",
      "text/plain": [
       "<Figure size 1200x600 with 1 Axes>"
      ]
     },
     "metadata": {},
     "output_type": "display_data"
    }
   ],
   "source": [
    "plt.figure(figsize=(12, 6)) \n",
    "sns.barplot(x = res_df.month, y = res_df.retention_rate, color = 'blue', alpha = 0.4)"
   ]
  },
  {
   "cell_type": "markdown",
   "id": "66061c49",
   "metadata": {},
   "source": [
    "## Задание 2"
   ]
  },
  {
   "cell_type": "markdown",
   "id": "f450b637",
   "metadata": {},
   "source": [
    "### Имеются результаты A/B теста, в котором двум группам пользователей предлагались различные наборы акционных предложений. Известно, что ARPU в тестовой группе выше на 5%, чем в контрольной. При этом в контрольной группе 1928 игроков из 202103 оказались платящими, а в тестовой – 1805 из 202667.\n",
    "\n",
    "### Какой набор предложений можно считать лучшим? Какие метрики стоит проанализировать для принятия правильного решения и как?"
   ]
  },
  {
   "cell_type": "code",
   "execution_count": 490,
   "id": "70f0419e",
   "metadata": {},
   "outputs": [
    {
     "data": {
      "text/html": [
       "<div>\n",
       "<style scoped>\n",
       "    .dataframe tbody tr th:only-of-type {\n",
       "        vertical-align: middle;\n",
       "    }\n",
       "\n",
       "    .dataframe tbody tr th {\n",
       "        vertical-align: top;\n",
       "    }\n",
       "\n",
       "    .dataframe thead th {\n",
       "        text-align: right;\n",
       "    }\n",
       "</style>\n",
       "<table border=\"1\" class=\"dataframe\">\n",
       "  <thead>\n",
       "    <tr style=\"text-align: right;\">\n",
       "      <th></th>\n",
       "      <th>user_id</th>\n",
       "      <th>revenue</th>\n",
       "      <th>testgroup</th>\n",
       "    </tr>\n",
       "  </thead>\n",
       "  <tbody>\n",
       "    <tr>\n",
       "      <th>0</th>\n",
       "      <td>1</td>\n",
       "      <td>0</td>\n",
       "      <td>b</td>\n",
       "    </tr>\n",
       "    <tr>\n",
       "      <th>1</th>\n",
       "      <td>2</td>\n",
       "      <td>0</td>\n",
       "      <td>a</td>\n",
       "    </tr>\n",
       "    <tr>\n",
       "      <th>2</th>\n",
       "      <td>3</td>\n",
       "      <td>0</td>\n",
       "      <td>a</td>\n",
       "    </tr>\n",
       "    <tr>\n",
       "      <th>3</th>\n",
       "      <td>4</td>\n",
       "      <td>0</td>\n",
       "      <td>b</td>\n",
       "    </tr>\n",
       "    <tr>\n",
       "      <th>4</th>\n",
       "      <td>5</td>\n",
       "      <td>0</td>\n",
       "      <td>b</td>\n",
       "    </tr>\n",
       "    <tr>\n",
       "      <th>...</th>\n",
       "      <td>...</td>\n",
       "      <td>...</td>\n",
       "      <td>...</td>\n",
       "    </tr>\n",
       "    <tr>\n",
       "      <th>404765</th>\n",
       "      <td>404766</td>\n",
       "      <td>0</td>\n",
       "      <td>a</td>\n",
       "    </tr>\n",
       "    <tr>\n",
       "      <th>404766</th>\n",
       "      <td>404767</td>\n",
       "      <td>0</td>\n",
       "      <td>b</td>\n",
       "    </tr>\n",
       "    <tr>\n",
       "      <th>404767</th>\n",
       "      <td>404768</td>\n",
       "      <td>231</td>\n",
       "      <td>a</td>\n",
       "    </tr>\n",
       "    <tr>\n",
       "      <th>404768</th>\n",
       "      <td>404769</td>\n",
       "      <td>0</td>\n",
       "      <td>a</td>\n",
       "    </tr>\n",
       "    <tr>\n",
       "      <th>404769</th>\n",
       "      <td>404770</td>\n",
       "      <td>0</td>\n",
       "      <td>b</td>\n",
       "    </tr>\n",
       "  </tbody>\n",
       "</table>\n",
       "<p>404770 rows × 3 columns</p>\n",
       "</div>"
      ],
      "text/plain": [
       "        user_id  revenue testgroup\n",
       "0             1        0         b\n",
       "1             2        0         a\n",
       "2             3        0         a\n",
       "3             4        0         b\n",
       "4             5        0         b\n",
       "...         ...      ...       ...\n",
       "404765   404766        0         a\n",
       "404766   404767        0         b\n",
       "404767   404768      231         a\n",
       "404768   404769        0         a\n",
       "404769   404770        0         b\n",
       "\n",
       "[404770 rows x 3 columns]"
      ]
     },
     "execution_count": 490,
     "metadata": {},
     "output_type": "execute_result"
    }
   ],
   "source": [
    "df2 = pd.read_csv('Проект_1_Задание_2 (1).csv', sep = ';')\n",
    "df2"
   ]
  },
  {
   "cell_type": "markdown",
   "id": "bf7ff46a",
   "metadata": {},
   "source": [
    "Для начала проверим насколько наблюдения из группы а статистически отличаются от представленного в группе b. Для этого составим таблицу сопряженности и используем критерий хи-квадрат"
   ]
  },
  {
   "cell_type": "code",
   "execution_count": 491,
   "id": "a66c996a",
   "metadata": {},
   "outputs": [
    {
     "data": {
      "text/html": [
       "<div>\n",
       "<style scoped>\n",
       "    .dataframe tbody tr th:only-of-type {\n",
       "        vertical-align: middle;\n",
       "    }\n",
       "\n",
       "    .dataframe tbody tr th {\n",
       "        vertical-align: top;\n",
       "    }\n",
       "\n",
       "    .dataframe thead th {\n",
       "        text-align: right;\n",
       "    }\n",
       "</style>\n",
       "<table border=\"1\" class=\"dataframe\">\n",
       "  <thead>\n",
       "    <tr style=\"text-align: right;\">\n",
       "      <th>testgroup</th>\n",
       "      <th>a</th>\n",
       "      <th>b</th>\n",
       "    </tr>\n",
       "  </thead>\n",
       "  <tbody>\n",
       "    <tr>\n",
       "      <th>1</th>\n",
       "      <td>1928</td>\n",
       "      <td>1805</td>\n",
       "    </tr>\n",
       "    <tr>\n",
       "      <th>0</th>\n",
       "      <td>200175</td>\n",
       "      <td>200862</td>\n",
       "    </tr>\n",
       "  </tbody>\n",
       "</table>\n",
       "</div>"
      ],
      "text/plain": [
       "testgroup       a       b\n",
       "1            1928    1805\n",
       "0          200175  200862"
      ]
     },
     "execution_count": 491,
     "metadata": {},
     "output_type": "execute_result"
    }
   ],
   "source": [
    "df2_chi = df2\n",
    "df2_chi['revenue'] = df2_chi['revenue'].apply(lambda x: 1 if x > 0 else 0)\n",
    "# df2a = df2_chi.query('testgroup == \"a\"')\n",
    "# df2b = df2_chi.query('testgroup == \"b\"')\n",
    "df2_chi = df2_chi.groupby('testgroup', as_index = False).agg({'revenue': 'sum', 'user_id': 'count'})\n",
    "df2_chi['user_id'] = df2_chi['user_id'] - df2_chi['revenue']\n",
    "df2_chi = df2_chi.rename(columns = {'user_id': '0', 'revenue': '1'}).set_index('testgroup').T\n",
    "df2_chi"
   ]
  },
  {
   "cell_type": "code",
   "execution_count": 492,
   "id": "12096057",
   "metadata": {},
   "outputs": [
    {
     "data": {
      "text/plain": [
       "Chi2ContingencyResult(statistic=4.443784139483562, pvalue=0.03502852464285541, dof=1, expected_freq=array([[  1863.89924896,   1869.10075104],\n",
       "       [200239.10075104, 200797.89924896]]))"
      ]
     },
     "execution_count": 492,
     "metadata": {},
     "output_type": "execute_result"
    }
   ],
   "source": [
    "from scipy.stats import chi2_contingency\n",
    "result = chi2_contingency(df2_chi, correction = False)\n",
    "result"
   ]
  },
  {
   "cell_type": "code",
   "execution_count": 494,
   "id": "1a0716e9",
   "metadata": {},
   "outputs": [
    {
     "data": {
      "text/plain": [
       "4.443784138956332"
      ]
     },
     "execution_count": 494,
     "metadata": {},
     "output_type": "execute_result"
    }
   ],
   "source": [
    "#Подсчитаем значение хи-квадрат вручную, убедимся, что оно достаточно мало. \n",
    "(1863.89924896 - 1928)**2 / 1863.89924896 + (1869.10075104 - 1805)**2 / 1869.10075104 + \\\n",
    "(200239.10075104 - 200175)**2 / 200239.10075104 + (200862 - 200797.89924896)**2 / 200797.89924896"
   ]
  },
  {
   "cell_type": "markdown",
   "id": "cacf5fb3",
   "metadata": {},
   "source": [
    "В силу малого значения pvalue можем отклонить нулевую гипотезу о независимости распределения от группы. Следовательно между группами А и B существует статистически значимое различие. "
   ]
  },
  {
   "cell_type": "markdown",
   "id": "bee0c937",
   "metadata": {},
   "source": [
    "Можно сделать вывод о том, что в контрольной группе количество людей, воспользовавшихся акционным предложением больше, чем в тестовой и данное различие является статистически значимым. Однако доход с пользователя в тестовой группе оказался выше"
   ]
  },
  {
   "cell_type": "markdown",
   "id": "7a484a86",
   "metadata": {},
   "source": [
    "Поскольку средняя прибыль с клиента в тестовой группе оказалась выше, чем таковая в контрольной предварительно можно одобрить внедрение новых акционных предложений. Однако в связи с этим следует сделать несколько оговорок.\n",
    "\n",
    "Для того чтобы понять какой из наборов предложений можно считать лучшим дополнительно стоит проанализировать такую метрика как CAС. Данная метрика вычисляется как частное расходов на привлечение и числа клиентов и показывает сколько стоит привлечение одного клиента. Поскольку тестовая группа показала себя как более прибыльная для компании релевантным было бы увеличить число клиентов и именно для этого необходимо понимать, насколько дорого будет стоить их привлечение.\n",
    "\n",
    "Также необходимо посмотреть, насколько введение нового акционного предложения повлияет на такие метрики как LTV (пожизненная ценность клиента) и ARPPU (средний доход на платящего пользователя). Если новая акция снижает дальнейшую финансовую активность клиента в продукте, то необходимо откорректировать условия акции. "
   ]
  },
  {
   "cell_type": "markdown",
   "id": "d8d405b6",
   "metadata": {},
   "source": [
    "# Задание 3"
   ]
  },
  {
   "cell_type": "markdown",
   "id": "e05b2c76",
   "metadata": {},
   "source": [
    "### В игре Plants & Gardens каждый месяц проводятся тематические события, ограниченные по времени. В них игроки могут получить уникальные предметы для сада и персонажей, дополнительные монеты или бонусы. Для получения награды требуется пройти ряд уровней за определенное время. С помощью каких метрик можно оценить результаты последнего прошедшего события?"
   ]
  },
  {
   "cell_type": "markdown",
   "id": "01a981cf",
   "metadata": {},
   "source": [
    "Вообще, тематическое событие можно рассматривать как маркетинговую кампанию, поскольку на ее разработку необходимы средства и ее целью в конечном итоте является увеличение числа активных пользователей, а также конверсия пользователей в клиентов. Таким образом, можно взять для анализа все сопряженные метрики: средняя месячная аудитория (MAU) для оценки количества пользователей и CR пользователей в клиентов. Для непосредственной оценки проведения тематического события, которое мы условились называть маркетинговой кампанией, можно отследить изменение таких метрик как CPAcq и CAC до и после события, включая в расходы траты на его создания. После окончания тематического события необходимо отследить какая доля пользователей, участвовавших в нем, осталась активными игроками. В этом нам поможет метрика Retention Rate. "
   ]
  },
  {
   "cell_type": "markdown",
   "id": "5a7b3765",
   "metadata": {},
   "source": [
    "### Предположим, в другом событии мы усложнили механику событий так, что при каждой неудачной попытке выполнения уровня игрок будет откатываться на несколько уровней назад. Изменится ли набор метрик оценки результата? Если да, то как?"
   ]
  },
  {
   "cell_type": "markdown",
   "id": "9b8e8129",
   "metadata": {},
   "source": [
    "В данном случае все метрики перечисленные выше все еще актуальны. Однако в рассмотрение стоит также включить такую метрику как CSAT (оценка удовлетворенности пользователей), которая показывает процентную долю положительных отзывов относительно общего их числа. Использование этой метрики необходимо в силу того, что игра в потенциале может вызывать у пользователя менее позитивные эмоции в связи с ее сложностью. Поэтому нужно отследить, как много людей решило поделиться своим недовольством во время проведения тематического события. Особенно актуальным это может стать, если в игре есть возможность заплатить за возможность не откатываться на предыдущие уровни внутриигровой валютой, покупаемой за реальные деньги. В таком случае часть пользователей действительно конвертируются в клиентов и показатели метрик связанных с прибылью увеличатся, однако CSAT упадет, а вместе с ней может упасть и метрика LTV, поскольку число лояльных приложению пользователей скорее всего сократится в силу снижения репутации игры. \n",
    "Также усложение игры, предложенное в условии, приводит к тому, что пользователь проводит в ней большее количество времени. То есть метрика ASL (средняя продолжительность сессии) увеличивается. И в этом контексте было бы интересно рассмотреть то, насколько продолжительность игровой сессии в среднем увеличится уже после тематического события, а также понять связь между ASL и конверсией в клиента."
   ]
  },
  {
   "cell_type": "code",
   "execution_count": null,
   "id": "65c90754",
   "metadata": {},
   "outputs": [],
   "source": []
  },
  {
   "cell_type": "code",
   "execution_count": null,
   "id": "aae82096",
   "metadata": {},
   "outputs": [],
   "source": []
  }
 ],
 "metadata": {
  "kernelspec": {
   "display_name": "Python 3 (ipykernel)",
   "language": "python",
   "name": "python3"
  },
  "language_info": {
   "codemirror_mode": {
    "name": "ipython",
    "version": 3
   },
   "file_extension": ".py",
   "mimetype": "text/x-python",
   "name": "python",
   "nbconvert_exporter": "python",
   "pygments_lexer": "ipython3",
   "version": "3.11.2"
  }
 },
 "nbformat": 4,
 "nbformat_minor": 5
}
